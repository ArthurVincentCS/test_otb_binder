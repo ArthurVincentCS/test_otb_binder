{
 "cells": [
  {
   "cell_type": "code",
   "execution_count": 4,
   "id": "5d6a2188-f773-42dd-bf74-ebb3730c82a9",
   "metadata": {},
   "outputs": [
    {
     "name": "stdout",
     "output_type": "stream",
     "text": [
      "BandMath\n",
      "This application performs a mathematical operation on several multi-band images and outputs the result into a monoband image. The given expression is computed at each pixel position. Evaluation of the mathematical formula is done by the muParser library.\n",
      "\n",
      "The formula can be written using:\n",
      "\n",
      "* numerical values ( 2.3, -5, 3.1e4, ...)\n",
      "* variables containing pixel values (e.g. ``im2b3`` is the pixel value in 2nd image, 3rd band)\n",
      "* binary operators:\n",
      "\n",
      "  * ``+`` addition, ``-`` subtraction, ``*`` multiplication, ``/`` division\n",
      "  * ``^`` raise x to the power of y\n",
      "  * ``<`` less than, ``>`` greater than, ``<=`` less or equal, ``>=`` greater or equal\n",
      "  * ``==`` equal, ``!=`` not equal\n",
      "  * ``||`` logical or, ``&&`` logical and\n",
      "  * if-then-else operator: ``(condition ? value_true : value_false)``\n",
      "* functions: ``exp()``, ``log()``, ``sin()``, ``cos()``, ``min()``, ``max()``, ...\n",
      "\n",
      "The full list of features and operators is available on the muParser website [1].\n"
     ]
    }
   ],
   "source": [
    "import otbApplication as otb\n",
    "\n",
    "otb_band_math = otb.Registry.CreateApplication(\"BandMath\")\n",
    "print(otb_band_math)"
   ]
  }
 ],
 "metadata": {
  "kernelspec": {
   "display_name": "Python 3 (ipykernel)",
   "language": "python",
   "name": "python3"
  },
  "language_info": {
   "codemirror_mode": {
    "name": "ipython",
    "version": 3
   },
   "file_extension": ".py",
   "mimetype": "text/x-python",
   "name": "python",
   "nbconvert_exporter": "python",
   "pygments_lexer": "ipython3",
   "version": "3.11.11"
  }
 },
 "nbformat": 4,
 "nbformat_minor": 5
}
